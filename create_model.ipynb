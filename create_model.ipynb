{
 "cells": [
  {
   "cell_type": "code",
   "execution_count": 1,
   "metadata": {},
   "outputs": [],
   "source": [
    "import numpy as np\n",
    "import cv2\n",
    "import tensorflow as tf\n",
    "import matplotlib.pyplot as plt\n",
    "%matplotlib inline\n",
    "import os\n",
    "\n",
    "\n",
    "from tensorflow.keras import datasets\n",
    "from tensorflow.keras import layers\n",
    "\n",
    "def MyModel(input_shape, num_classes) :\n",
    "    inputs = layers.Input(shape = input_shape)\n",
    "\n",
    "    net = layers.Conv2D(32, 3, 1, padding = 'SAME')(inputs)\n",
    "    net = layers.Activation('relu')(net)\n",
    "    net = layers.Conv2D(32, 3, 1, padding = 'SAME')(net)\n",
    "    net = layers.Activation('relu')(net)\n",
    "    net = layers.MaxPool2D((2,2))(net)\n",
    "    net = layers.Dropout(0.25)(net)\n",
    "\n",
    "    net = layers.Conv2D(64, 3, 1, padding = 'SAME')(net)\n",
    "    net = layers.Activation('relu')(net)\n",
    "    net = layers.MaxPool2D((2,2))(net)\n",
    "    net = layers.Conv2D(128, 3, 1, padding = 'SAME')(net)\n",
    "    net = layers.Activation('relu')(net)\n",
    "    net = layers.MaxPool2D((2,2))(net)\n",
    "    net = layers.Dropout(0.25)(net)\n",
    "\n",
    "\n",
    "    # Fully Connected\n",
    "    net = layers.Flatten()(net)\n",
    "    net = layers.Dense(1024)(net)\n",
    "    net = layers.Activation('relu')(net)\n",
    "    net = layers.Dropout(0.25)(net)\n",
    "    net = layers.Dense(num_classes)(net)\n",
    "    net = layers.Activation('softmax')(net)\n",
    "\n",
    "    model = tf.keras.Model(inputs = inputs, outputs = net, name = 'TestCNN')\n",
    "    \n",
    "    return model"
   ]
  },
  {
   "cell_type": "code",
   "execution_count": 2,
   "metadata": {},
   "outputs": [
    {
     "name": "stdout",
     "output_type": "stream",
     "text": [
      "(4803,)\n",
      "(4803,)\n"
     ]
    }
   ],
   "source": [
    "train_data_paths = []\n",
    "train_y = []\n",
    "\n",
    "for index in range(53):\n",
    "    paths = tf.io.matching_files('./Card_imgs/train_img/{}/*.jpg'.format(index))\n",
    "    #paths = tf.io.matching_files('./Card_imgs/train_img/{}/*.jpg'.format(index))\n",
    "    # len(paths) -> 각 이미지의 개수,  1 * 인덱스 -> 분류할 데이터\n",
    "    '''\n",
    "    for i in range(len(paths)):\n",
    "        label_name.append(card)\n",
    "    label_name = np.array(label_name)\n",
    "    print(type(label_name[0]))\n",
    "    train_y.append(label_name)    \n",
    "    train_data_paths.append(paths)\n",
    "    '''\n",
    "    # len(paths) -> 각 이미지의 개수,  1 * 인덱스 -> 분류할 데이터\n",
    "    label_num = np.ones(len(paths)) * index\n",
    "    train_data_paths.append(paths)\n",
    "    train_y.append(label_num)\n",
    "\n",
    "train_data_paths_1d = tf.concat(train_data_paths, axis=0)\n",
    "train_y_1d = np.concatenate(train_y)\n",
    "print(train_data_paths_1d.shape); print(train_y_1d.shape)"
   ]
  },
  {
   "cell_type": "code",
   "execution_count": 3,
   "metadata": {},
   "outputs": [],
   "source": [
    "def tf_read_image(path):\n",
    "    gfile = tf.io.read_file(path)\n",
    "    image = tf.io.decode_image(gfile, dtype = tf.float32)\n",
    "    return image\n",
    "def make_batch(batch_paths):\n",
    "    batch_images = []\n",
    "    for path in batch_paths:\n",
    "        image = tf_read_image(path)\n",
    "        image.numpy()\n",
    "        image = tf.image.resize(image, [150, 100])\n",
    "        batch_images.append(image)\n",
    "    return tf.convert_to_tensor(batch_images)\n",
    "\n",
    "train_x_1d = make_batch(train_data_paths_1d)"
   ]
  },
  {
   "cell_type": "code",
   "execution_count": 4,
   "metadata": {},
   "outputs": [
    {
     "name": "stdout",
     "output_type": "stream",
     "text": [
      "Epoch 1/10\n",
      "151/151 [==============================] - 65s 426ms/step - loss: 3.0701 - accuracy: 0.2844\n",
      "Epoch 2/10\n",
      "151/151 [==============================] - 65s 432ms/step - loss: 0.0580 - accuracy: 0.9903\n",
      "Epoch 3/10\n",
      "151/151 [==============================] - 67s 441ms/step - loss: 0.0298 - accuracy: 0.9928\n",
      "Epoch 4/10\n",
      "151/151 [==============================] - 65s 433ms/step - loss: 0.0199 - accuracy: 0.9947\n",
      "Epoch 5/10\n",
      "151/151 [==============================] - 66s 436ms/step - loss: 0.0152 - accuracy: 0.9957\n",
      "Epoch 6/10\n",
      "151/151 [==============================] - 66s 437ms/step - loss: 0.0155 - accuracy: 0.9954\n",
      "Epoch 7/10\n",
      "151/151 [==============================] - 66s 440ms/step - loss: 0.0087 - accuracy: 0.9969\n",
      "Epoch 8/10\n",
      "151/151 [==============================] - 66s 440ms/step - loss: 0.0113 - accuracy: 0.9961\n",
      "Epoch 9/10\n",
      "151/151 [==============================] - 67s 441ms/step - loss: 0.0129 - accuracy: 0.9956\n",
      "Epoch 10/10\n",
      "151/151 [==============================] - 68s 447ms/step - loss: 0.0102 - accuracy: 0.9977\n"
     ]
    }
   ],
   "source": [
    "checkpoint_path = \"C:/Users/user/Desktop/졸업작품/ModelCheckPoint\"\n",
    "#checkpoint_path = \"C:\\Users\\염정혁\\Desktop\\파이썬 연습\\졸작\\ModelCheckPoint\"\n",
    "checkpoint_dir = os.path.dirname(checkpoint_path)\n",
    "cp_callback = tf.keras.callbacks.ModelCheckpoint(filepath=checkpoint_path,\n",
    "                                                 save_weights_only=True,\n",
    "                                                 verbose=1)\n",
    "\n",
    "num_classes = 53\n",
    "input_shape = (150, 100, 3)\n",
    "model = MyModel(input_shape, num_classes)\n",
    "model.compile(optimizer = tf.keras.optimizers.Adam(), loss = 'sparse_categorical_crossentropy', metrics = ['accuracy'])\n",
    "\n",
    "num_epochs = 10\n",
    "batch_size = 32\n",
    "hist = model.fit(train_x_1d, train_y_1d, batch_size = batch_size, shuffle = True, epochs = num_epochs)"
   ]
  },
  {
   "cell_type": "code",
   "execution_count": 5,
   "metadata": {},
   "outputs": [],
   "source": [
    "model.save('my_models.h5')"
   ]
  },
  {
   "cell_type": "code",
   "execution_count": null,
   "metadata": {},
   "outputs": [],
   "source": []
  }
 ],
 "metadata": {
  "kernelspec": {
   "display_name": "Python 3",
   "language": "python",
   "name": "python3"
  },
  "language_info": {
   "codemirror_mode": {
    "name": "ipython",
    "version": 3
   },
   "file_extension": ".py",
   "mimetype": "text/x-python",
   "name": "python",
   "nbconvert_exporter": "python",
   "pygments_lexer": "ipython3",
   "version": "3.7.3"
  }
 },
 "nbformat": 4,
 "nbformat_minor": 2
}
